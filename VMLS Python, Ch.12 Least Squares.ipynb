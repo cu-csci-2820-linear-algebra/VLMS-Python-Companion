{
 "cells": [
  {
   "cell_type": "code",
   "execution_count": 1,
   "metadata": {},
   "outputs": [],
   "source": [
    "import numpy as np\n",
    "import numpy.linalg as npl\n",
    "import scipy.linalg as spl\n",
    "import math\n",
    "import matplotlib.pyplot as plt\n",
    "from IPython.core.interactiveshell import InteractiveShell\n",
    "InteractiveShell.ast_node_interactivity = \"all\""
   ]
  },
  {
   "cell_type": "markdown",
   "metadata": {},
   "source": [
    "# 12.1 Least Squares Problem"
   ]
  },
  {
   "cell_type": "code",
   "execution_count": 2,
   "metadata": {},
   "outputs": [
    {
     "data": {
      "text/plain": [
       "0.816496580927726"
      ]
     },
     "execution_count": 2,
     "metadata": {},
     "output_type": "execute_result"
    },
    {
     "data": {
      "text/plain": [
       "1.0"
      ]
     },
     "execution_count": 2,
     "metadata": {},
     "output_type": "execute_result"
    },
    {
     "data": {
      "text/plain": [
       "matrix([[-0.33333333, -0.66666667,  0.33333333]])"
      ]
     },
     "execution_count": 2,
     "metadata": {},
     "output_type": "execute_result"
    }
   ],
   "source": [
    "A,b = np.matrix([[2,0],[-1,1],[0,2]]), np.array([1,0,-1])\n",
    "xhat = np.array([1/3,-1/3])\n",
    "rhat = np.matmul(A,xhat) - b\n",
    "npl.norm(rhat)\n",
    "x = np.array([1/2,-1/2])\n",
    "r = np.matmul(A,x) - b\n",
    "npl.norm(r)\n",
    "rhat"
   ]
  },
  {
   "cell_type": "markdown",
   "metadata": {},
   "source": [
    "# 12.2 Solution"
   ]
  },
  {
   "cell_type": "code",
   "execution_count": 3,
   "metadata": {},
   "outputs": [
    {
     "data": {
      "text/plain": [
       "matrix([[ 0.33333333, -0.33333333]])"
      ]
     },
     "execution_count": 3,
     "metadata": {},
     "output_type": "execute_result"
    },
    {
     "data": {
      "text/plain": [
       "matrix([[ 0.33333333, -0.33333333]])"
      ]
     },
     "execution_count": 3,
     "metadata": {},
     "output_type": "execute_result"
    },
    {
     "data": {
      "text/plain": [
       "matrix([[-2.22044605e-16,  2.22044605e-16]])"
      ]
     },
     "execution_count": 3,
     "metadata": {},
     "output_type": "execute_result"
    }
   ],
   "source": [
    "np.matmul(npl.inv(A.transpose()*A)*A.transpose(),b)  \n",
    "np.matmul(npl.pinv(A),b)\n",
    "np.matmul(np.matmul(A.transpose(),A),xhat) - np.matmul(A.transpose(),b)"
   ]
  },
  {
   "cell_type": "code",
   "execution_count": 4,
   "metadata": {},
   "outputs": [
    {
     "data": {
      "text/plain": [
       "matrix([[2.22044605e-16]])"
      ]
     },
     "execution_count": 4,
     "metadata": {},
     "output_type": "execute_result"
    }
   ],
   "source": [
    "z = np.array([-1.1,2.3])\n",
    "# np.shape(np.matmul(A,z))\n",
    "# np.shape(rhat)\n",
    "np.matmul(A,z) @ rhat.transpose() #J: (A*z)'*rhat; auto columning in Julia means we have to reverse the transpose order "
   ]
  },
  {
   "cell_type": "markdown",
   "metadata": {},
   "source": [
    "# 12.3 Solving Least Squares Problems"
   ]
  },
  {
   "cell_type": "code",
   "execution_count": 5,
   "metadata": {},
   "outputs": [],
   "source": [
    "A,b = np.random.randn(100,20),np.random.randn(100)"
   ]
  },
  {
   "cell_type": "code",
   "execution_count": 6,
   "metadata": {},
   "outputs": [
    {
     "name": "stderr",
     "output_type": "stream",
     "text": [
      "/Users/vb/anaconda3/lib/python3.7/site-packages/ipykernel_launcher.py:1: FutureWarning: `rcond` parameter will change to the default of machine precision times ``max(M, N)`` where M and N are the input matrix dimensions.\n",
      "To use the future default and silence this warning we advise to pass `rcond=None`, to keep using the old, explicitly pass `rcond=-1`.\n",
      "  \"\"\"Entry point for launching an IPython kernel.\n"
     ]
    },
    {
     "data": {
      "text/plain": [
       "1.3420841513488284e-15"
      ]
     },
     "execution_count": 6,
     "metadata": {},
     "output_type": "execute_result"
    },
    {
     "data": {
      "text/plain": [
       "1.1860029236402488e-15"
      ]
     },
     "execution_count": 6,
     "metadata": {},
     "output_type": "execute_result"
    },
    {
     "data": {
      "text/plain": [
       "1.2164456932067798e-15"
      ]
     },
     "execution_count": 6,
     "metadata": {},
     "output_type": "execute_result"
    }
   ],
   "source": [
    "x1 = npl.lstsq(A,b)[0] #lstsq gives the solution, residuals and rank, need to choose [0], \n",
    "                       #in Julia the backslash operator auto uses lstsq based on if given matrix is overdetermined \n",
    "x2 = np.matmul(npl.inv(np.matmul(A.transpose(),A)),np.matmul(A.transpose(),b))\n",
    "x3 = np.matmul(npl.pinv(A),b)\n",
    "Q,R = npl.qr(A)\n",
    "x4 = npl.solve(R,(np.matmul(Q.transpose(),b)))\n",
    "\n",
    "npl.norm(x1-x2)  \n",
    "npl.norm(x2-x3)\n",
    "npl.norm(x3-x4)"
   ]
  },
  {
   "cell_type": "code",
   "execution_count": 12,
   "metadata": {},
   "outputs": [
    {
     "data": {
      "text/plain": [
       "array([-0.29342607,  0.03988191,  1.71686803, -0.08960342, -0.19449585,\n",
       "        2.34831266, -1.27657089,  0.38143991, -0.06604336, -0.26806188,\n",
       "        0.89547526,  0.85285057,  2.21710014,  0.29008911, -0.51736698,\n",
       "       -0.19327643, -1.36696655,  1.29335268,  0.3863149 ,  2.15174618,\n",
       "       -0.53754741, -1.32774531, -0.18130505,  0.37947866,  1.14827145,\n",
       "       -1.12230884, -2.31813797, -0.33344444, -0.08673728, -0.17636368,\n",
       "        0.65503024,  0.39356489,  1.18228462, -0.65054473,  0.66231913,\n",
       "        0.16246993,  0.24103338,  0.84061334, -0.18044394, -0.12678673,\n",
       "       -0.59573565, -1.73316018, -0.9625673 , -1.07211399, -0.29199792,\n",
       "       -1.04518092, -1.45186537,  0.81249613, -0.64152112, -1.07227572,\n",
       "       -0.78019519, -0.49602235, -0.35803487,  0.83960475, -0.77634411,\n",
       "       -1.80675356, -2.24399824, -0.70860633,  0.78635624,  1.70922774,\n",
       "       -0.84440143, -0.17126014, -1.50564893, -0.01736174,  0.40230546,\n",
       "        0.19863088,  1.39723774,  1.30365763,  0.84060143,  0.65326217,\n",
       "       -0.30787401, -1.21311311,  0.46545342,  0.45912438, -0.84015128,\n",
       "        1.55503951,  0.50949203,  0.85693001,  2.04278307, -1.48958159,\n",
       "        2.19759244,  0.20966838, -1.55946872,  0.41517798,  3.33730473,\n",
       "       -0.79353568,  0.34127271, -1.20430503, -0.48317055, -3.50955654,\n",
       "        0.28723903, -0.64737309, -1.88732681, -0.80151732,  0.42029307,\n",
       "        0.69152923,  0.19907691, -1.7254825 , -1.12934968,  0.87388445])"
      ]
     },
     "execution_count": 12,
     "metadata": {},
     "output_type": "execute_result"
    }
   ],
   "source": [
    "np.shape(A)"
   ]
  },
  {
   "cell_type": "code",
   "execution_count": 7,
   "metadata": {},
   "outputs": [
    {
     "data": {
      "text/plain": [
       "array([-0.22860708,  0.0462826 ,  0.06892021,  0.06418885, -0.11654298,\n",
       "        0.17136051, -0.17624683, -0.02376972,  0.07277802,  0.03337012,\n",
       "       -0.14267652, -0.03832998,  0.21918719,  0.13679285,  0.19326027,\n",
       "       -0.09690266, -0.13223342,  0.14614471, -0.15347465, -0.23077307])"
      ]
     },
     "execution_count": 7,
     "metadata": {},
     "output_type": "execute_result"
    }
   ],
   "source": [
    "x1"
   ]
  },
  {
   "cell_type": "markdown",
   "metadata": {},
   "source": [
    "#### Complexity: \n",
    "1. doubling m doubles compute time\n",
    "2. doubling n quadruples compute time"
   ]
  },
  {
   "cell_type": "code",
   "execution_count": 7,
   "metadata": {},
   "outputs": [
    {
     "name": "stderr",
     "output_type": "stream",
     "text": [
      "/Users/vb/anaconda3/lib/python3.7/site-packages/ipykernel_launcher.py:1: FutureWarning: `rcond` parameter will change to the default of machine precision times ``max(M, N)`` where M and N are the input matrix dimensions.\n",
      "To use the future default and silence this warning we advise to pass `rcond=None`, to keep using the old, explicitly pass `rcond=-1`.\n",
      "  \"\"\"Entry point for launching an IPython kernel.\n"
     ]
    },
    {
     "name": "stdout",
     "output_type": "stream",
     "text": [
      "81.1 ms ± 8 ms per loop (mean ± std. dev. of 7 runs, 10 loops each)\n"
     ]
    }
   ],
   "source": [
    "m,n = 2000, 500\n",
    "A,b = np.random.randn(m,n), np.random.randn(m)\n",
    "%timeit npl.lstsq(A,b)"
   ]
  },
  {
   "cell_type": "code",
   "execution_count": 8,
   "metadata": {},
   "outputs": [
    {
     "name": "stderr",
     "output_type": "stream",
     "text": [
      "/Users/vb/anaconda3/lib/python3.7/site-packages/ipykernel_launcher.py:1: FutureWarning: `rcond` parameter will change to the default of machine precision times ``max(M, N)`` where M and N are the input matrix dimensions.\n",
      "To use the future default and silence this warning we advise to pass `rcond=None`, to keep using the old, explicitly pass `rcond=-1`.\n",
      "  \"\"\"Entry point for launching an IPython kernel.\n"
     ]
    },
    {
     "name": "stdout",
     "output_type": "stream",
     "text": [
      "124 ms ± 14.8 ms per loop (mean ± std. dev. of 7 runs, 10 loops each)\n"
     ]
    }
   ],
   "source": [
    "m,n = 4000, 500\n",
    "A,b = np.random.randn(m,n), np.random.randn(m)\n",
    "%timeit npl.lstsq(A,b)"
   ]
  },
  {
   "cell_type": "code",
   "execution_count": 9,
   "metadata": {},
   "outputs": [
    {
     "name": "stderr",
     "output_type": "stream",
     "text": [
      "/Users/vb/anaconda3/lib/python3.7/site-packages/ipykernel_launcher.py:1: FutureWarning: `rcond` parameter will change to the default of machine precision times ``max(M, N)`` where M and N are the input matrix dimensions.\n",
      "To use the future default and silence this warning we advise to pass `rcond=None`, to keep using the old, explicitly pass `rcond=-1`.\n",
      "  \"\"\"Entry point for launching an IPython kernel.\n"
     ]
    },
    {
     "name": "stdout",
     "output_type": "stream",
     "text": [
      "311 ms ± 43.6 ms per loop (mean ± std. dev. of 7 runs, 1 loop each)\n"
     ]
    }
   ],
   "source": [
    "m,n = 2000, 1000\n",
    "A,b = np.random.randn(m,n), np.random.randn(m)\n",
    "%timeit npl.lstsq(A,b)"
   ]
  },
  {
   "cell_type": "code",
   "execution_count": 10,
   "metadata": {},
   "outputs": [
    {
     "name": "stderr",
     "output_type": "stream",
     "text": [
      "/Users/vb/anaconda3/lib/python3.7/site-packages/ipykernel_launcher.py:2: FutureWarning: `rcond` parameter will change to the default of machine precision times ``max(M, N)`` where M and N are the input matrix dimensions.\n",
      "To use the future default and silence this warning we advise to pass `rcond=None`, to keep using the old, explicitly pass `rcond=-1`.\n",
      "  \n",
      "/Users/vb/anaconda3/lib/python3.7/site-packages/ipykernel_launcher.py:3: FutureWarning: `rcond` parameter will change to the default of machine precision times ``max(M, N)`` where M and N are the input matrix dimensions.\n",
      "To use the future default and silence this warning we advise to pass `rcond=None`, to keep using the old, explicitly pass `rcond=-1`.\n",
      "  This is separate from the ipykernel package so we can avoid doing imports until\n"
     ]
    },
    {
     "data": {
      "text/plain": [
       "3.614235711934445e-16"
      ]
     },
     "execution_count": 10,
     "metadata": {},
     "output_type": "execute_result"
    }
   ],
   "source": [
    "A,B = np.random.randn(1000,100), np.random.randn(1000,10)\n",
    "X = npl.lstsq(A,B)[0]\n",
    "x3 = npl.lstsq(A,B[:,3])[0]\n",
    "npl.norm(X[:,3]-x3)"
   ]
  },
  {
   "cell_type": "markdown",
   "metadata": {},
   "source": [
    "# 12.4 Examples "
   ]
  },
  {
   "cell_type": "code",
   "execution_count": 11,
   "metadata": {},
   "outputs": [
    {
     "name": "stderr",
     "output_type": "stream",
     "text": [
      "/Users/vb/anaconda3/lib/python3.7/site-packages/ipykernel_launcher.py:4: FutureWarning: `rcond` parameter will change to the default of machine precision times ``max(M, N)`` where M and N are the input matrix dimensions.\n",
      "To use the future default and silence this warning we advise to pass `rcond=None`, to keep using the old, explicitly pass `rcond=-1`.\n",
      "  after removing the cwd from sys.path.\n"
     ]
    },
    {
     "data": {
      "text/plain": [
       "array([  62.07662454,   99.98500403, 1442.83746254])"
      ]
     },
     "execution_count": 11,
     "metadata": {},
     "output_type": "execute_result"
    }
   ],
   "source": [
    "#advertising budget\n",
    "R = np.matrix([[.97,1.86,.41],[1.23,2.18,.53],[.8,1.24,.62],[1.29,.98,.51],[1.1,1.23,.69],[.67,.34,.54],[.87,.26,.62],[1.1,.16,.48],[1.92,.22,.71],[1.29,.12,.62]])\n",
    "m,n = np.shape(R)\n",
    "vdes = 1e3 * np.ones(m)\n",
    "s = npl.lstsq(R,vdes)[0]\n",
    "s\n",
    "#will be continued in 16 re: how to add a constraint like a total budget "
   ]
  },
  {
   "cell_type": "code",
   "execution_count": 12,
   "metadata": {},
   "outputs": [
    {
     "data": {
      "text/plain": [
       "132.63819026326522"
      ]
     },
     "execution_count": 12,
     "metadata": {},
     "output_type": "execute_result"
    }
   ],
   "source": [
    "rms = lambda x: np.sqrt(np.mean(np.square(x))) #not a built in numpy function\n",
    "rms(np.matmul(R,s) - vdes)"
   ]
  },
  {
   "cell_type": "code",
   "execution_count": 143,
   "metadata": {},
   "outputs": [
    {
     "data": {
      "text/plain": [
       "(10, 625)"
      ]
     },
     "execution_count": 143,
     "metadata": {},
     "output_type": "execute_result"
    }
   ],
   "source": [
    "#10 lamps each with an x,y position and a height above the floor\n",
    "#goal: adjust light intensity for each lamp to get uniform lighting at the floor level\n",
    "lamps = np.matrix([[4.1,20.4,4],[14.1,21.3,3.5],[22.6,17.1,6],[5.5,12.3,4.0],[12.2,9.7,4.0],[15.3,13.8,6],[21.3,10.5,5.5],[3.9,3.3,5.0],[13.1,4.3,5.0],[20.3,4.2,4.5]])\n",
    "n = np.shape(lamps)[0]\n",
    "N = int(max(np.ravel(lamps))+2.4) #grid size\n",
    "m = N*N #pixel density\n",
    "n,m"
   ]
  },
  {
   "cell_type": "code",
   "execution_count": 144,
   "metadata": {},
   "outputs": [],
   "source": [
    "#an m x 2 matrix with coordinates of pixel centers \n",
    "pixels = np.hstack((np.vstack([np.vstack(np.arange(.5,N,1)) for i in range(N)]),np.vstack([np.vstack(np.full(N,.5+i)) for i in range(N)])))\n",
    "A = np.zeros((m,n))"
   ]
  },
  {
   "cell_type": "code",
   "execution_count": 156,
   "metadata": {},
   "outputs": [
    {
     "name": "stderr",
     "output_type": "stream",
     "text": [
      "/Users/vb/anaconda3/lib/python3.7/site-packages/ipykernel_launcher.py:5: FutureWarning: `rcond` parameter will change to the default of machine precision times ``max(M, N)`` where M and N are the input matrix dimensions.\n",
      "To use the future default and silence this warning we advise to pass `rcond=None`, to keep using the old, explicitly pass `rcond=-1`.\n",
      "  \"\"\"\n"
     ]
    }
   ],
   "source": [
    "for i in range(m):\n",
    "    for j in range(n):\n",
    "        A[i,j] = 1.0/np.square(npl.norm(np.hstack([pixels[i,:],[0]]) - lamps[j,:]))\n",
    "A = m/sum(A) * A\n",
    "x = npl.lstsq(A,np.ones((m,1)))[0]\n",
    "rmsLS = rms(np.matmul(A,x) - 1)"
   ]
  },
  {
   "cell_type": "markdown",
   "metadata": {},
   "source": [
    "rms(np.matmul(A,np.ones((n,1))) - 1)"
   ]
  },
  {
   "cell_type": "code",
   "execution_count": 157,
   "metadata": {},
   "outputs": [
    {
     "data": {
      "text/plain": [
       "(array([  7.,  13.,  35.,  58.,  78., 168., 156.,  69.,  35.,   6.]),\n",
       " array([0.53478587, 0.61503502, 0.69528417, 0.77553332, 0.85578247,\n",
       "        0.93603162, 1.01628077, 1.09652992, 1.17677907, 1.25702821,\n",
       "        1.33727736]),\n",
       " <a list of 10 Patch objects>)"
      ]
     },
     "execution_count": 157,
     "metadata": {},
     "output_type": "execute_result"
    },
    {
     "data": {
      "image/png": "[encoded data removed]",
      "text/plain": [
       "<Figure size 432x288 with 1 Axes>"
      ]
     },
     "metadata": {
      "needs_background": "light"
     },
     "output_type": "display_data"
    }
   ],
   "source": [
    "plt.hist(np.matmul(A,x)) "
   ]
  },
  {
   "cell_type": "code",
   "execution_count": 158,
   "metadata": {},
   "outputs": [
    {
     "data": {
      "text/plain": [
       "(array([ 10.,  25.,  51.,  80.,  87., 113.,  94.,  99.,  50.,  16.]),\n",
       " array([ 4.35112509,  5.38933026,  6.42753542,  7.46574059,  8.50394576,\n",
       "         9.54215092, 10.58035609, 11.61856126, 12.65676642, 13.69497159,\n",
       "        14.73317676]),\n",
       " <a list of 10 Patch objects>)"
      ]
     },
     "execution_count": 158,
     "metadata": {},
     "output_type": "execute_result"
    },
    {
     "data": {
      "image/png": "[encoded data removed]",
      "text/plain": [
       "<Figure size 432x288 with 1 Axes>"
      ]
     },
     "metadata": {
      "needs_background": "light"
     },
     "output_type": "display_data"
    }
   ],
   "source": [
    "plt.hist(np.matmul(A,np.ones((n,1))))"
   ]
  },
  {
   "cell_type": "code",
   "execution_count": null,
   "metadata": {},
   "outputs": [],
   "source": []
  }
 ],
 "metadata": {
  "kernelspec": {
   "display_name": "Python 3",
   "language": "python",
   "name": "python3"
  },
  "language_info": {
   "codemirror_mode": {
    "name": "ipython",
    "version": 3
   },
   "file_extension": ".py",
   "mimetype": "text/x-python",
   "name": "python",
   "nbconvert_exporter": "python",
   "pygments_lexer": "ipython3",
   "version": "3.7.4"
  }
 },
 "nbformat": 4,
 "nbformat_minor": 2
}
