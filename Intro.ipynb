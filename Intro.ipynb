{
 "cells": [
  {
   "cell_type": "markdown",
   "id": "5245f08a-876f-4973-8ab7-167c321a8372",
   "metadata": {},
   "source": [
    "# VMLS Python Companion Material"
   ]
  },
  {
   "cell_type": "markdown",
   "id": "87297f39-3239-4b53-894c-1248d7c75291",
   "metadata": {},
   "source": [
    "This collection of Jupyter notebooks contains the code examples from the accompanying text supplement. As you go through the class, you will find it useful to refer to these code snippets and [the vlms python companion](vmls-python-companion.pdf) book"
   ]
  },
  {
   "cell_type": "code",
   "execution_count": null,
   "id": "27aa4402-7fd1-4c86-9355-aac238c47712",
   "metadata": {},
   "outputs": [],
   "source": []
  }
 ],
 "metadata": {
  "kernelspec": {
   "display_name": "Python 3 (ipykernel)",
   "language": "python",
   "name": "python3"
  },
  "language_info": {
   "codemirror_mode": {
    "name": "ipython",
    "version": 3
   },
   "file_extension": ".py",
   "mimetype": "text/x-python",
   "name": "python",
   "nbconvert_exporter": "python",
   "pygments_lexer": "ipython3",
   "version": "3.9.6"
  }
 },
 "nbformat": 4,
 "nbformat_minor": 5
}
