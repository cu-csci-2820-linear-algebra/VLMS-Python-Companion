{
 "cells": [
  {
   "cell_type": "code",
   "execution_count": 12,
   "metadata": {},
   "outputs": [],
   "source": [
    "import numpy as np\n",
    "import numpy.linalg as npl\n",
    "import scipy.linalg as spl\n",
    "import sklearn.metrics as sklm\n",
    "import math\n",
    "import matplotlib.pyplot as plt\n",
    "plt.rcParams['figure.figsize'] = [6, 6]\n",
    "from IPython.core.interactiveshell import InteractiveShell\n",
    "InteractiveShell.ast_node_interactivity = \"all\""
   ]
  },
  {
   "cell_type": "code",
   "execution_count": 13,
   "metadata": {},
   "outputs": [],
   "source": [
    "irisD = {'virginica': np.array([[6.3, 3.3, 6. , 2.5],\n",
    "       [5.8, 2.7, 5.1, 1.9],\n",
    "       [7.1, 3. , 5.9, 2.1],\n",
    "       [6.3, 2.9, 5.6, 1.8],\n",
    "       [6.5, 3. , 5.8, 2.2],\n",
    "       [7.6, 3. , 6.6, 2.1],\n",
    "       [4.9, 2.5, 4.5, 1.7],\n",
    "       [7.3, 2.9, 6.3, 1.8],\n",
    "       [6.7, 2.5, 5.8, 1.8],\n",
    "       [7.2, 3.6, 6.1, 2.5],\n",
    "       [6.5, 3.2, 5.1, 2. ],\n",
    "       [6.4, 2.7, 5.3, 1.9],\n",
    "       [6.8, 3. , 5.5, 2.1],\n",
    "       [5.7, 2.5, 5. , 2. ],\n",
    "       [5.8, 2.8, 5.1, 2.4],\n",
    "       [6.4, 3.2, 5.3, 2.3],\n",
    "       [6.5, 3. , 5.5, 1.8],\n",
    "       [7.7, 3.8, 6.7, 2.2],\n",
    "       [7.7, 2.6, 6.9, 2.3],\n",
    "       [6. , 2.2, 5. , 1.5],\n",
    "       [6.9, 3.2, 5.7, 2.3],\n",
    "       [5.6, 2.8, 4.9, 2. ],\n",
    "       [7.7, 2.8, 6.7, 2. ],\n",
    "       [6.3, 2.7, 4.9, 1.8],\n",
    "       [6.7, 3.3, 5.7, 2.1],\n",
    "       [7.2, 3.2, 6. , 1.8],\n",
    "       [6.2, 2.8, 4.8, 1.8],\n",
    "       [6.1, 3. , 4.9, 1.8],\n",
    "       [6.4, 2.8, 5.6, 2.1],\n",
    "       [7.2, 3. , 5.8, 1.6],\n",
    "       [7.4, 2.8, 6.1, 1.9],\n",
    "       [7.9, 3.8, 6.4, 2. ],\n",
    "       [6.4, 2.8, 5.6, 2.2],\n",
    "       [6.3, 2.8, 5.1, 1.5],\n",
    "       [6.1, 2.6, 5.6, 1.4],\n",
    "       [7.7, 3. , 6.1, 2.3],\n",
    "       [6.3, 3.4, 5.6, 2.4],\n",
    "       [6.4, 3.1, 5.5, 1.8],\n",
    "       [6. , 3. , 4.8, 1.8],\n",
    "       [6.9, 3.1, 5.4, 2.1],\n",
    "       [6.7, 3.1, 5.6, 2.4],\n",
    "       [6.9, 3.1, 5.1, 2.3],\n",
    "       [5.8, 2.7, 5.1, 1.9],\n",
    "       [6.8, 3.2, 5.9, 2.3],\n",
    "       [6.7, 3.3, 5.7, 2.5],\n",
    "       [6.7, 3. , 5.2, 2.3],\n",
    "       [6.3, 2.5, 5. , 1.9],\n",
    "       [6.5, 3. , 5.2, 2. ],\n",
    "       [6.2, 3.4, 5.4, 2.3],\n",
    "       [5.9, 3. , 5.1, 1.8]]), 'setosa': np.array([[5.1, 3.5, 1.4, 0.2],\n",
    "       [4.9, 3. , 1.4, 0.2],\n",
    "       [4.7, 3.2, 1.3, 0.2],\n",
    "       [4.6, 3.1, 1.5, 0.2],\n",
    "       [5. , 3.6, 1.4, 0.2],\n",
    "       [5.4, 3.9, 1.7, 0.4],\n",
    "       [4.6, 3.4, 1.4, 0.3],\n",
    "       [5. , 3.4, 1.5, 0.2],\n",
    "       [4.4, 2.9, 1.4, 0.2],\n",
    "       [4.9, 3.1, 1.5, 0.1],\n",
    "       [5.4, 3.7, 1.5, 0.2],\n",
    "       [4.8, 3.4, 1.6, 0.2],\n",
    "       [4.8, 3. , 1.4, 0.1],\n",
    "       [4.3, 3. , 1.1, 0.1],\n",
    "       [5.8, 4. , 1.2, 0.2],\n",
    "       [5.7, 4.4, 1.5, 0.4],\n",
    "       [5.4, 3.9, 1.3, 0.4],\n",
    "       [5.1, 3.5, 1.4, 0.3],\n",
    "       [5.7, 3.8, 1.7, 0.3],\n",
    "       [5.1, 3.8, 1.5, 0.3],\n",
    "       [5.4, 3.4, 1.7, 0.2],\n",
    "       [5.1, 3.7, 1.5, 0.4],\n",
    "       [4.6, 3.6, 1. , 0.2],\n",
    "       [5.1, 3.3, 1.7, 0.5],\n",
    "       [4.8, 3.4, 1.9, 0.2],\n",
    "       [5. , 3. , 1.6, 0.2],\n",
    "       [5. , 3.4, 1.6, 0.4],\n",
    "       [5.2, 3.5, 1.5, 0.2],\n",
    "       [5.2, 3.4, 1.4, 0.2],\n",
    "       [4.7, 3.2, 1.6, 0.2],\n",
    "       [4.8, 3.1, 1.6, 0.2],\n",
    "       [5.4, 3.4, 1.5, 0.4],\n",
    "       [5.2, 4.1, 1.5, 0.1],\n",
    "       [5.5, 4.2, 1.4, 0.2],\n",
    "       [4.9, 3.1, 1.5, 0.2],\n",
    "       [5. , 3.2, 1.2, 0.2],\n",
    "       [5.5, 3.5, 1.3, 0.2],\n",
    "       [4.9, 3.6, 1.4, 0.1],\n",
    "       [4.4, 3. , 1.3, 0.2],\n",
    "       [5.1, 3.4, 1.5, 0.2],\n",
    "       [5. , 3.5, 1.3, 0.3],\n",
    "       [4.5, 2.3, 1.3, 0.3],\n",
    "       [4.4, 3.2, 1.3, 0.2],\n",
    "       [5. , 3.5, 1.6, 0.6],\n",
    "       [5.1, 3.8, 1.9, 0.4],\n",
    "       [4.8, 3. , 1.4, 0.3],\n",
    "       [5.1, 3.8, 1.6, 0.2],\n",
    "       [4.6, 3.2, 1.4, 0.2],\n",
    "       [5.3, 3.7, 1.5, 0.2],\n",
    "       [5. , 3.3, 1.4, 0.2]]), 'versicolor': np.array([[7. , 3.2, 4.7, 1.4],\n",
    "       [6.4, 3.2, 4.5, 1.5],\n",
    "       [6.9, 3.1, 4.9, 1.5],\n",
    "       [5.5, 2.3, 4. , 1.3],\n",
    "       [6.5, 2.8, 4.6, 1.5],\n",
    "       [5.7, 2.8, 4.5, 1.3],\n",
    "       [6.3, 3.3, 4.7, 1.6],\n",
    "       [4.9, 2.4, 3.3, 1. ],\n",
    "       [6.6, 2.9, 4.6, 1.3],\n",
    "       [5.2, 2.7, 3.9, 1.4],\n",
    "       [5. , 2. , 3.5, 1. ],\n",
    "       [5.9, 3. , 4.2, 1.5],\n",
    "       [6. , 2.2, 4. , 1. ],\n",
    "       [6.1, 2.9, 4.7, 1.4],\n",
    "       [5.6, 2.9, 3.6, 1.3],\n",
    "       [6.7, 3.1, 4.4, 1.4],\n",
    "       [5.6, 3. , 4.5, 1.5],\n",
    "       [5.8, 2.7, 4.1, 1. ],\n",
    "       [6.2, 2.2, 4.5, 1.5],\n",
    "       [5.6, 2.5, 3.9, 1.1],\n",
    "       [5.9, 3.2, 4.8, 1.8],\n",
    "       [6.1, 2.8, 4. , 1.3],\n",
    "       [6.3, 2.5, 4.9, 1.5],\n",
    "       [6.1, 2.8, 4.7, 1.2],\n",
    "       [6.4, 2.9, 4.3, 1.3],\n",
    "       [6.6, 3. , 4.4, 1.4],\n",
    "       [6.8, 2.8, 4.8, 1.4],\n",
    "       [6.7, 3. , 5. , 1.7],\n",
    "       [6. , 2.9, 4.5, 1.5],\n",
    "       [5.7, 2.6, 3.5, 1. ],\n",
    "       [5.5, 2.4, 3.8, 1.1],\n",
    "       [5.5, 2.4, 3.7, 1. ],\n",
    "       [5.8, 2.7, 3.9, 1.2],\n",
    "       [6. , 2.7, 5.1, 1.6],\n",
    "       [5.4, 3. , 4.5, 1.5],\n",
    "       [6. , 3.4, 4.5, 1.6],\n",
    "       [6.7, 3.1, 4.7, 1.5],\n",
    "       [6.3, 2.3, 4.4, 1.3],\n",
    "       [5.6, 3. , 4.1, 1.3],\n",
    "       [5.5, 2.5, 4. , 1.3],\n",
    "       [5.5, 2.6, 4.4, 1.2],\n",
    "       [6.1, 3. , 4.6, 1.4],\n",
    "       [5.8, 2.6, 4. , 1.2],\n",
    "       [5. , 2.3, 3.3, 1. ],\n",
    "       [5.6, 2.7, 4.2, 1.3],\n",
    "       [5.7, 3. , 4.2, 1.2],\n",
    "       [5.7, 2.9, 4.2, 1.3],\n",
    "       [6.2, 2.9, 4.3, 1.3],\n",
    "       [5.1, 2.5, 3. , 1.1],\n",
    "       [5.7, 2.8, 4.1, 1.3]])}"
   ]
  },
  {
   "cell_type": "markdown",
   "metadata": {},
   "source": [
    "# 14.1 Classification"
   ]
  },
  {
   "cell_type": "code",
   "execution_count": 14,
   "metadata": {},
   "outputs": [
    {
     "data": {
      "text/plain": [
       "1"
      ]
     },
     "execution_count": 14,
     "metadata": {},
     "output_type": "execute_result"
    },
    {
     "data": {
      "text/plain": [
       "array([ 1, -1,  1])"
      ]
     },
     "execution_count": 14,
     "metadata": {},
     "output_type": "execute_result"
    }
   ],
   "source": [
    "tf2pm1 = lambda b:2*b-1 #convert T/F to 1 -1\n",
    "b=True\n",
    "tf2pm1(b)\n",
    "b = np.array([True,False,True])\n",
    "tf2pm1(b)"
   ]
  },
  {
   "cell_type": "code",
   "execution_count": 15,
   "metadata": {},
   "outputs": [],
   "source": [
    "numTP = lambda y,yhat: sum([1 for i in range(len(y)) if y[i] == True and yhat[i] == True])\n",
    "numFN = lambda y,yhat: sum([1 for i in range(len(y)) if y[i] == True and yhat[i] == False])\n",
    "numFP = lambda y,yhat: sum([1 for i in range(len(y)) if y[i] == False and yhat[i] == True])\n",
    "numTN = lambda y,yhat: sum([1 for i in range(len(y)) if y[i] == False and yhat[i] == False]) \n",
    "confusion_matrix = lambda y,yhat: np.vstack([[numTP(y,yhat),numFN(y,yhat)],[numFP(y,yhat),numTN(y,yhat)]])\n",
    "error_rate = lambda y,yhat: (numFN(y,yhat) + numFP(y,yhat)) / len(y)\n",
    "error_rate2 = lambda y,yhat: np.average(y != yhat)"
   ]
  },
  {
   "cell_type": "code",
   "execution_count": 16,
   "metadata": {},
   "outputs": [],
   "source": [
    "# y,yhat = np.random.choice(a = [True, False], size = (100)),np.random.choice(a = [True, False], size = (100))"
   ]
  },
  {
   "cell_type": "code",
   "execution_count": 17,
   "metadata": {},
   "outputs": [],
   "source": [
    "#pseudo-seed to test between skl and Julia\n",
    "y = np.array([False,  True, False,  True, False,  True, False,  True,  True,\n",
    "        True,  True,  True, False,  True,  True,  True,  True, False,\n",
    "       False,  True,  True,  True,  True,  True,  True, False, False,\n",
    "       False,  True,  True,  True,  True,  True, False,  True,  True,\n",
    "        True,  True,  True,  True,  True,  True,  True,  True, False,\n",
    "        True,  True, False, False,  True,  True,  True,  True, False,\n",
    "        True, False,  True, False,  True, False,  True,  True,  True,\n",
    "        True, False,  True,  True, False, False, False, False,  True,\n",
    "        True,  True, False, False,  True, False,  True,  True, False,\n",
    "        True, False,  True, False, False, False,  True, False, False,\n",
    "        True,  True, False, False,  True,  True, False, False,  True,\n",
    "       False])\n",
    "yhat = np.array([False,  True,  True,  True,  True,  True, False, False, False,\n",
    "       False, False, False, False,  True,  True,  True, False, False,\n",
    "        True,  True, False,  True,  True, False,  True, False,  True,\n",
    "       False,  True,  True, False,  True, False, False,  True, False,\n",
    "       False, False, False,  True,  True, False, False,  True, False,\n",
    "        True,  True, False, False,  True, False, False,  True,  True,\n",
    "        True,  True,  True, False, False, False,  True, False,  True,\n",
    "       False, False, False, False, False, False,  True, False,  True,\n",
    "       False,  True, False,  True, False, False, False, False, False,\n",
    "       False, False,  True,  True, False,  True, False,  True,  True,\n",
    "       False,  True,  True, False,  True,  True, False,  True,  True,\n",
    "        True])"
   ]
  },
  {
   "cell_type": "code",
   "execution_count": 18,
   "metadata": {},
   "outputs": [
    {
     "data": {
      "text/plain": [
       "array([[32, 30],\n",
       "       [15, 23]])"
      ]
     },
     "execution_count": 18,
     "metadata": {},
     "output_type": "execute_result"
    },
    {
     "data": {
      "text/plain": [
       "array([[32, 30],\n",
       "       [15, 23]])"
      ]
     },
     "execution_count": 18,
     "metadata": {},
     "output_type": "execute_result"
    },
    {
     "data": {
      "text/plain": [
       "0.45"
      ]
     },
     "execution_count": 18,
     "metadata": {},
     "output_type": "execute_result"
    },
    {
     "data": {
      "text/plain": [
       "0.45"
      ]
     },
     "execution_count": 18,
     "metadata": {},
     "output_type": "execute_result"
    }
   ],
   "source": [
    "confusion_matrix(y,yhat)\n",
    "np.flip(sklm.confusion_matrix(y,yhat)) #sklm implementation is flipped relative to VMLS\n",
    "error_rate(y,yhat)\n",
    "error_rate2(y,yhat)"
   ]
  },
  {
   "cell_type": "code",
   "execution_count": 19,
   "metadata": {},
   "outputs": [
    {
     "data": {
      "text/plain": [
       "<matplotlib.axes._subplots.AxesSubplot at 0x1a1c180f50>"
      ]
     },
     "execution_count": 19,
     "metadata": {},
     "output_type": "execute_result"
    },
    {
     "data": {
      "image/png": "[encoded data removed]",
      "text/plain": [
       "<Figure size 432x432 with 2 Axes>"
      ]
     },
     "metadata": {
      "needs_background": "light"
     },
     "output_type": "display_data"
    }
   ],
   "source": [
    "#optional confusion matrix vis template\n",
    "import seaborn as sn\n",
    "import pandas as pd\n",
    "\n",
    "df_cm = pd.DataFrame(confusion_matrix(y,yhat) )\n",
    "sn.heatmap(df_cm, annot=True)"
   ]
  },
  {
   "cell_type": "markdown",
   "metadata": {},
   "source": [
    "\n",
    "# 14.2 Least Squares Classifier"
   ]
  },
  {
   "cell_type": "code",
   "execution_count": 20,
   "metadata": {},
   "outputs": [
    {
     "name": "stderr",
     "output_type": "stream",
     "text": [
      "/Users/vb/anaconda3/lib/python3.7/site-packages/ipykernel_launcher.py:10: FutureWarning: `rcond` parameter will change to the default of machine precision times ``max(M, N)`` where M and N are the input matrix dimensions.\n",
      "To use the future default and silence this warning we advise to pass `rcond=None`, to keep using the old, explicitly pass `rcond=-1`.\n",
      "  # Remove the CWD from sys.path while we load stuff.\n"
     ]
    },
    {
     "data": {
      "text/plain": [
       "0.07333333333333333"
      ]
     },
     "execution_count": 20,
     "metadata": {},
     "output_type": "execute_result"
    },
    {
     "data": {
      "text/plain": [
       "0.07333333333333333"
      ]
     },
     "execution_count": 20,
     "metadata": {},
     "output_type": "execute_result"
    }
   ],
   "source": [
    "#fHat can be made via a regression model, and the > comparator\n",
    "fTilde = lambda x: x@beta + v\n",
    "fHat = lambda x: fTilde(x) > 0\n",
    "\n",
    "\n",
    "iris = np.vstack([irisD[\"setosa\"],irisD[\"versicolor\"],irisD[\"virginica\"]])\n",
    "#if k == virginica: y[k] = True (1) ; else False (0)\n",
    "y = np.hstack([np.full(50, False),np.full(50, False),np.full(50, True)])\n",
    "A = np.hstack([np.ones((150,1)), iris])\n",
    "theta = npl.lstsq(A,2*y-1)[0]\n",
    "yhat = np.matmul(A,theta) > 0 #regression classifier \n",
    "\n",
    "C = confusion_matrix(y,yhat)\n",
    "(C[0,1] + C[1,0]) / len(y)\n",
    "np.average(y != yhat)"
   ]
  },
  {
   "cell_type": "markdown",
   "metadata": {},
   "source": [
    "# 14.3 Multi-class Classifiers"
   ]
  },
  {
   "cell_type": "code",
   "execution_count": 21,
   "metadata": {},
   "outputs": [],
   "source": [
    "K = 4\n",
    "y = np.random.randint(K,size=100)\n",
    "yhat = np.random.randint(K,size=100)"
   ]
  },
  {
   "cell_type": "code",
   "execution_count": 22,
   "metadata": {},
   "outputs": [
    {
     "data": {
      "text/plain": [
       "array([[5., 9., 6., 6.],\n",
       "       [9., 4., 9., 6.],\n",
       "       [6., 5., 3., 4.],\n",
       "       [7., 6., 6., 9.]])"
      ]
     },
     "execution_count": 22,
     "metadata": {},
     "output_type": "execute_result"
    },
    {
     "data": {
      "text/plain": [
       "0.79"
      ]
     },
     "execution_count": 22,
     "metadata": {},
     "output_type": "execute_result"
    },
    {
     "data": {
      "text/plain": [
       "0.79"
      ]
     },
     "execution_count": 22,
     "metadata": {},
     "output_type": "execute_result"
    }
   ],
   "source": [
    "error_rate = lambda y,yhat: np.average(y != yhat)\n",
    "def confusion_matrix(y, yhat, K):\n",
    "    C = np.zeros((K,K))\n",
    "    for i in range(K):\n",
    "        for j in range(K):\n",
    "            C[i,j] = sum(np.logical_and(y == i, yhat == j))\n",
    "    return C\n",
    "C = confusion_matrix(y,yhat,K)\n",
    "C\n",
    "error_rate(y,yhat)\n",
    "1-np.sum(np.diag(C))/np.sum(C)"
   ]
  },
  {
   "cell_type": "code",
   "execution_count": 23,
   "metadata": {},
   "outputs": [
    {
     "data": {
      "text/plain": [
       "<matplotlib.axes._subplots.AxesSubplot at 0x1a1c2aa110>"
      ]
     },
     "execution_count": 23,
     "metadata": {},
     "output_type": "execute_result"
    },
    {
     "data": {
      "image/png": "[encoded data removed]",
      "text/plain": [
       "<Figure size 432x432 with 2 Axes>"
      ]
     },
     "metadata": {
      "needs_background": "light"
     },
     "output_type": "display_data"
    }
   ],
   "source": [
    "df_cm = pd.DataFrame(confusion_matrix(y,yhat,K) )\n",
    "sn.heatmap(df_cm, annot=True)"
   ]
  },
  {
   "cell_type": "code",
   "execution_count": 24,
   "metadata": {},
   "outputs": [],
   "source": [
    "#least squares multi-class classifier\n",
    "A = np.random.randn(4,5)"
   ]
  },
  {
   "cell_type": "code",
   "execution_count": 25,
   "metadata": {},
   "outputs": [
    {
     "data": {
      "text/plain": [
       "[2, 4, 2, 2]"
      ]
     },
     "execution_count": 25,
     "metadata": {},
     "output_type": "execute_result"
    },
    {
     "data": {
      "text/plain": [
       "array([2, 4, 2, 2])"
      ]
     },
     "execution_count": 25,
     "metadata": {},
     "output_type": "execute_result"
    },
    {
     "data": {
      "text/plain": [
       "[1, 1, 0, 0, 1]"
      ]
     },
     "execution_count": 25,
     "metadata": {},
     "output_type": "execute_result"
    },
    {
     "data": {
      "text/plain": [
       "array([1, 1, 0, 0, 1])"
      ]
     },
     "execution_count": 25,
     "metadata": {},
     "output_type": "execute_result"
    }
   ],
   "source": [
    "row_argmax = lambda u:[np.argmax(u[i,:]) for i in range(np.size(u,0))]\n",
    "col_argmax = lambda u:[np.argmax(u[:,i]) for i in range(np.size(u,1))]\n",
    "row_argmax(A)\n",
    "np.argmax(A,1)\n",
    "col_argmax(A)\n",
    "np.argmax(A,0)"
   ]
  },
  {
   "cell_type": "code",
   "execution_count": 26,
   "metadata": {},
   "outputs": [],
   "source": [
    "#can use the following to find n-vector predictions of a data set with N examples \n",
    "#stored as nxN 'x', and theta is an nxK \n",
    "fhat = lambda x,theta: row_argmax(x@theta)"
   ]
  },
  {
   "cell_type": "code",
   "execution_count": 27,
   "metadata": {},
   "outputs": [],
   "source": [
    "K = 4\n",
    "ycl = np.random.randint(K,size=6)"
   ]
  },
  {
   "cell_type": "code",
   "execution_count": 28,
   "metadata": {},
   "outputs": [],
   "source": [
    "#matrix least squares\n",
    "def one_hot(ycl,K):\n",
    "    N = len(ycl)\n",
    "    Y = np.zeros((N,K))\n",
    "    for j in range(K):\n",
    "        Y[np.where(ycl==j),j] = 1\n",
    "    return Y"
   ]
  },
  {
   "cell_type": "code",
   "execution_count": 53,
   "metadata": {},
   "outputs": [],
   "source": [
    "def ls_multiclass(X,ycl,K):\n",
    "    n,N = np.size(X),np.size(X) #debugging code left in on julia companion\n",
    "    theta = npl.lstsq(X.T, (2*one_hot(ycl,K)-1))[0]\n",
    "    yhat = np.argmax(np.matmul(X.T,theta),1)\n",
    "    return theta,yhat\n",
    "\n",
    "setosa = irisD[\"setosa\"]\n",
    "versicolor = irisD[\"versicolor\"]\n",
    "virginica = irisD[\"virginica\"]\n",
    "I1 = np.random.permutation(50)\n",
    "I2 = np.random.permutation(50)\n",
    "I3 = np.random.permutation(50)\n",
    "\n",
    "#4x120 data matrix: 4 features per flower, 120 flowers\n",
    "#transposed shape shows 4 arrays, 1 per feature, with 120 data pts in each\n",
    "Xtrain = np.vstack([setosa[I1[:40],:],\n",
    "          versicolor[I2[:40],:],\n",
    "           virginica[I3[:40],:]]).T \n",
    "#add constant feature array 1, now shape 5x120\n",
    "Xtrain = np.vstack([np.ones((1,120)),Xtrain]) \n",
    "Ytrain = np.vstack([np.full(40,1),np.full(40,2),np.full(40,3)]).ravel()\n",
    "\n",
    "Xtest = np.vstack([setosa[I1[40:],:],\n",
    "          versicolor[I2[40:],:],\n",
    "           virginica[I3[40:],:]]).T \n",
    "Xtest = np.vstack([np.ones((1,30)),Xtest]) \n",
    "Ytest = np.vstack([np.full(10,1),np.full(10,2),np.full(10,3)]).ravel()"
   ]
  },
  {
   "cell_type": "code",
   "execution_count": 54,
   "metadata": {},
   "outputs": [
    {
     "name": "stderr",
     "output_type": "stream",
     "text": [
      "/Users/vb/anaconda3/lib/python3.7/site-packages/ipykernel_launcher.py:3: FutureWarning: `rcond` parameter will change to the default of machine precision times ``max(M, N)`` where M and N are the input matrix dimensions.\n",
      "To use the future default and silence this warning we advise to pass `rcond=None`, to keep using the old, explicitly pass `rcond=-1`.\n",
      "  This is separate from the ipykernel package so we can avoid doing imports until\n"
     ]
    },
    {
     "data": {
      "text/plain": [
       "(array([[-1.00000000e+00, -8.26661810e-01,  2.13489006e+00],\n",
       "        [ 2.66778329e-16,  1.35626321e-01, -1.35118329e-02],\n",
       "        [-6.48120074e-17,  5.02854430e-01, -9.13082470e-01],\n",
       "        [-5.64764927e-17, -4.53575801e-01,  3.82993528e-01],\n",
       "        [-3.96551917e-18, -1.04589530e-01, -8.74847378e-01]]),\n",
       " array([1, 1, 1, 1, 1, 1, 1, 1, 1, 1, 1, 1, 1, 1, 1, 1, 1, 1, 1, 1, 1, 1,\n",
       "        1, 1, 1, 1, 1, 1, 1, 1, 1, 1, 1, 1, 1, 1, 1, 1, 1, 1, 2, 2, 2, 2,\n",
       "        2, 2, 2, 2, 2, 2, 2, 2, 2, 2, 2, 1, 2, 2, 2, 2, 2, 2, 2, 2, 2, 2,\n",
       "        2, 2, 2, 2, 2, 2, 2, 2, 2, 2, 2, 2, 2, 2, 2, 2, 2, 2, 2, 2, 0, 2,\n",
       "        2, 2, 2, 2, 2, 2, 2, 2, 2, 2, 2, 1, 2, 2, 2, 2, 2, 2, 2, 2, 2, 0,\n",
       "        2, 2, 2, 2, 2, 2, 2, 2, 2, 2]))"
      ]
     },
     "execution_count": 54,
     "metadata": {},
     "output_type": "execute_result"
    },
    {
     "data": {
      "text/plain": [
       "array([[ 0.,  0.,  0.],\n",
       "       [ 0., 40.,  0.],\n",
       "       [ 0.,  1., 39.]])"
      ]
     },
     "execution_count": 54,
     "metadata": {},
     "output_type": "execute_result"
    },
    {
     "data": {
      "text/plain": [
       "0.3416666666666667"
      ]
     },
     "execution_count": 54,
     "metadata": {},
     "output_type": "execute_result"
    },
    {
     "data": {
      "text/plain": [
       "array([[0., 0., 0.],\n",
       "       [0., 0., 0.],\n",
       "       [0., 0., 0.]])"
      ]
     },
     "execution_count": 54,
     "metadata": {},
     "output_type": "execute_result"
    },
    {
     "data": {
      "text/plain": [
       "0.3333333333333333"
      ]
     },
     "execution_count": 54,
     "metadata": {},
     "output_type": "execute_result"
    }
   ],
   "source": [
    "theta,yhat = ls_multiclass(Xtrain,Ytrain,3)\n",
    "theta,yhat\n",
    "Ctrain = confusion_matrix(Ytrain,yhat,3)\n",
    "Ctrain\n",
    "error_train = error_rate(Ytrain,yhat)\n",
    "error_train\n",
    "yhat = row_argmax(np.matmul(Xtest.T,theta))\n",
    "Ctest = confusion_matrix(Ytest,yhat,3)\n",
    "error_test = error_rate(Ytest,yhat)\n",
    "Ctest\n",
    "error_test\n",
    "\n",
    "#performance is 2x worse than VLMS companion, need to revisit"
   ]
  },
  {
   "cell_type": "code",
   "execution_count": 34,
   "metadata": {},
   "outputs": [
    {
     "data": {
      "text/plain": [
       "(30,)"
      ]
     },
     "execution_count": 34,
     "metadata": {},
     "output_type": "execute_result"
    }
   ],
   "source": [
    "np.shape(yhat)"
   ]
  },
  {
   "cell_type": "code",
   "execution_count": null,
   "metadata": {},
   "outputs": [],
   "source": []
  }
 ],
 "metadata": {
  "kernelspec": {
   "display_name": "Python 3",
   "language": "python",
   "name": "python3"
  },
  "language_info": {
   "codemirror_mode": {
    "name": "ipython",
    "version": 3
   },
   "file_extension": ".py",
   "mimetype": "text/x-python",
   "name": "python",
   "nbconvert_exporter": "python",
   "pygments_lexer": "ipython3",
   "version": "3.7.4"
  }
 },
 "nbformat": 4,
 "nbformat_minor": 2
}
