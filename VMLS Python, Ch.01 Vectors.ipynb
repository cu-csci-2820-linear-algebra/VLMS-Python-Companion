{
 "cells": [
  {
   "cell_type": "code",
   "execution_count": 2,
   "metadata": {},
   "outputs": [],
   "source": [
    "#NumPy, Matplotlib, and other packages are throughout these notebooks\n",
    "# to fulfill Julia built-in features (array casting, sparse vectors) \n",
    "#and VMLS companion package imports (e.g. Plot)\n",
    "import numpy as np"
   ]
  },
  {
   "cell_type": "markdown",
   "metadata": {},
   "source": [
    "# 1.1 Vectors\n",
    "Vectors are represented as one-dimensional Array objects, and assigned with '='"
   ]
  },
  {
   "cell_type": "code",
   "execution_count": 8,
   "metadata": {},
   "outputs": [
    {
     "data": {
      "text/plain": [
       "(array([-1.1,  0. ,  3.6, -7.2]), array([-1.1,  0. ,  3.6, -7.2]), 4, 4)"
      ]
     },
     "execution_count": 8,
     "metadata": {},
     "output_type": "execute_result"
    }
   ],
   "source": [
    "x = np.array([-1.1,0.0,3.6,-7.2])\n",
    "y = np.array([-1.1,0.0,3.6,-7.2])\n",
    "x,y, len(x), len(y)"
   ]
  },
  {
   "cell_type": "code",
   "execution_count": 12,
   "metadata": {},
   "outputs": [
    {
     "data": {
      "text/plain": [
       "(array([1, 2]), (1, 2))"
      ]
     },
     "execution_count": 12,
     "metadata": {},
     "output_type": "execute_result"
    }
   ],
   "source": [
    "a = np.array([1,2])\n",
    "b = (1,2)\n",
    "a,b #a is a vector, b is a tuple of scalars "
   ]
  },
  {
   "cell_type": "markdown",
   "metadata": {},
   "source": [
    "#### Indexing"
   ]
  },
  {
   "cell_type": "code",
   "execution_count": 14,
   "metadata": {},
   "outputs": [
    {
     "data": {
      "text/plain": [
       "(-7.2, 3.6)"
      ]
     },
     "execution_count": 14,
     "metadata": {},
     "output_type": "execute_result"
    }
   ],
   "source": [
    "x[3], x[2] #Julia is 1-indexed, Python is 0-indexed"
   ]
  },
  {
   "cell_type": "code",
   "execution_count": 15,
   "metadata": {},
   "outputs": [
    {
     "data": {
      "text/plain": [
       "array([-1.1,  0. ,  4. , -7.2])"
      ]
     },
     "execution_count": 15,
     "metadata": {},
     "output_type": "execute_result"
    }
   ],
   "source": [
    "x[2] = 4.0\n",
    "x"
   ]
  },
  {
   "cell_type": "markdown",
   "metadata": {},
   "source": [
    "#### Assignment versus Copying"
   ]
  },
  {
   "cell_type": "code",
   "execution_count": 16,
   "metadata": {},
   "outputs": [
    {
     "data": {
      "text/plain": [
       "array([-1.1,  0. ,  4. ,  4. ])"
      ]
     },
     "execution_count": 16,
     "metadata": {},
     "output_type": "execute_result"
    }
   ],
   "source": [
    "y = x\n",
    "x[3] = 4.0\n",
    "y"
   ]
  },
  {
   "cell_type": "code",
   "execution_count": 17,
   "metadata": {},
   "outputs": [
    {
     "data": {
      "text/plain": [
       "array([-1.1,  2. ,  4. ,  4. ])"
      ]
     },
     "execution_count": 17,
     "metadata": {},
     "output_type": "execute_result"
    }
   ],
   "source": [
    "y[1] = 2.0\n",
    "x #Same as in Julia, and different from MatLab/Octave: \n",
    "  #assigning an array to another doesn't make a new copy of the values\n",
    "  #it just createss a new reference to the same values"
   ]
  },
  {
   "cell_type": "code",
   "execution_count": 29,
   "metadata": {},
   "outputs": [
    {
     "data": {
      "text/plain": [
       "(array([-1.1,  0. ,  4. , -7.2]), array([ 2. ,  0. ,  3.6, -7.2]))"
      ]
     },
     "execution_count": 29,
     "metadata": {},
     "output_type": "execute_result"
    }
   ],
   "source": [
    "x = np.array([-1.1,0.0,3.6,-7.2])\n",
    "y = x.copy() #equivalent to copy(x) in Julia, \n",
    "             #resolves the new reference topic from above\n",
    "x[2] = 4.0\n",
    "y[0] = 2.0\n",
    "x,y"
   ]
  },
  {
   "cell_type": "code",
   "execution_count": 36,
   "metadata": {},
   "outputs": [
    {
     "data": {
      "text/plain": [
       "(array([ True, False, False,  True]), array([ True,  True,  True,  True]))"
      ]
     },
     "execution_count": 36,
     "metadata": {},
     "output_type": "execute_result"
    }
   ],
   "source": [
    "x = np.array([-1.1,0.0,3.6,-7.2])\n",
    "y = x.copy()\n",
    "y[2] = 4.0\n",
    "# y==x #relational operators in Julia check the entire vector to determine a single boolean expression\n",
    "       #relational operators in Python check each individual vector value\n",
    "z=x.copy()\n",
    "z[1] = 4.0\n",
    "x[1] = 4.0\n",
    "y == x, z == x"
   ]
  },
  {
   "cell_type": "code",
   "execution_count": 43,
   "metadata": {},
   "outputs": [
    {
     "data": {
      "text/plain": [
       "(array([1.3]), 1.3, array([ True]), True, False)"
      ]
     },
     "execution_count": 43,
     "metadata": {},
     "output_type": "execute_result"
    }
   ],
   "source": [
    "x = np.array([1.3])\n",
    "y = 1.3\n",
    "x,y, x==y, x[0]==y, type(x)==type(y)\n",
    "#Different from Julia: the third result would be false \n",
    "#because they're different types (array and int), just like the 5th result\n",
    "#the fourth result is the same, barring 0,1 indexing differences"
   ]
  },
  {
   "cell_type": "markdown",
   "metadata": {},
   "source": [
    "#### Block or Stacked Vectors"
   ]
  },
  {
   "cell_type": "code",
   "execution_count": 60,
   "metadata": {},
   "outputs": [
    {
     "data": {
      "text/plain": [
       "array([ 1, -2,  1,  1,  0])"
      ]
     },
     "execution_count": 60,
     "metadata": {},
     "output_type": "execute_result"
    }
   ],
   "source": [
    "#In Julia you concatenate vectors using semicolon or vcat: [x;y] or vcat(x,y)\n",
    "#In Python you can use:\n",
    "x = np.array([1,-2]); y = np.array([1,1,0]);\n",
    "z = np.concatenate((x,y))\n",
    "z"
   ]
  },
  {
   "cell_type": "markdown",
   "metadata": {},
   "source": [
    "#### Subvectors and Slicing"
   ]
  },
  {
   "cell_type": "code",
   "execution_count": 62,
   "metadata": {},
   "outputs": [
    {
     "data": {
      "text/plain": [
       "array([4, 3, 0])"
      ]
     },
     "execution_count": 62,
     "metadata": {},
     "output_type": "execute_result"
    }
   ],
   "source": [
    "x = np.array([9,4,3,0,5])\n",
    "y = x[1:4] #slicing in python is [inclusive:exclusive], in julia: [inclusive:inclusive]\n",
    "y"
   ]
  },
  {
   "cell_type": "code",
   "execution_count": 65,
   "metadata": {},
   "outputs": [
    {
     "data": {
      "text/plain": [
       "array([ 9,  4,  3, -2, -3])"
      ]
     },
     "execution_count": 65,
     "metadata": {},
     "output_type": "execute_result"
    }
   ],
   "source": [
    "x[3:5] = [-2,-3] #would be x[4:5] in Julia\n",
    "                 #as though Julia says: items i through j; Python says: from item i to item j\n",
    "x"
   ]
  },
  {
   "cell_type": "code",
   "execution_count": 89,
   "metadata": {},
   "outputs": [
    {
     "data": {
      "text/plain": [
       "(array([ 9,  4,  3, -2, -3]), array([3, 4]))"
      ]
     },
     "execution_count": 89,
     "metadata": {},
     "output_type": "execute_result"
    }
   ],
   "source": [
    "#In Julia a reverse slice is: [end:-1:1] ie [start:increment:end]\n",
    "#In Python a reverse slice is: [::-1] ie [start:end:increment]\n",
    "x,x[2:0:-1] #would be: x[3:-1:2]"
   ]
  },
  {
   "cell_type": "markdown",
   "metadata": {},
   "source": [
    "#### Vector of First Differences"
   ]
  },
  {
   "cell_type": "code",
   "execution_count": 123,
   "metadata": {},
   "outputs": [
    {
     "data": {
      "text/plain": [
       "array([-1,  0, -2,  4])"
      ]
     },
     "execution_count": 123,
     "metadata": {},
     "output_type": "execute_result"
    }
   ],
   "source": [
    "#Julia successively compiles an array when running:\n",
    "#x = [1,0,0,-2,2]\n",
    "#d = x[2:end] - x[1:end-1]; which gives the vector of differences \n",
    "#But in python you have to run a list comprehension:\n",
    "x = np.array([1,0,0,-2,2])\n",
    "np.array([x[i+1]-x[i] for i in range(len(x)-1)])"
   ]
  },
  {
   "cell_type": "code",
   "execution_count": 135,
   "metadata": {},
   "outputs": [
    {
     "data": {
      "text/plain": [
       "(array([[ 1.,  0.],\n",
       "        [ 1., -1.],\n",
       "        [ 0.,  1.]]),\n",
       " (array([1., 0.]), [1.0, -1.0], [0, 1.0]),\n",
       " array([ 1., -1.]))"
      ]
     },
     "execution_count": 135,
     "metadata": {},
     "output_type": "execute_result"
    }
   ],
   "source": [
    "x = np.array([1.0,0]);y = ([1.0,-1.0]);z = ([0,1.0])  #tuple and list differences are the same\n",
    "lst0 = np.array([x,y,z])\n",
    "lst1 = (x,y,z)\n",
    "lst0,lst1,lst0[1]"
   ]
  },
  {
   "cell_type": "markdown",
   "metadata": {},
   "source": [
    "#### Zero Vectors, Unit Vectors, Ones Vector, Random Vector"
   ]
  },
  {
   "cell_type": "code",
   "execution_count": 137,
   "metadata": {},
   "outputs": [
    {
     "data": {
      "text/plain": [
       "array([0., 0., 0.])"
      ]
     },
     "execution_count": 137,
     "metadata": {},
     "output_type": "execute_result"
    }
   ],
   "source": [
    "np.zeros(3) #In Julia you can use \"zeros(3)\""
   ]
  },
  {
   "cell_type": "code",
   "execution_count": 156,
   "metadata": {},
   "outputs": [
    {
     "data": {
      "text/plain": [
       "array([0., 1., 0.])"
      ]
     },
     "execution_count": 156,
     "metadata": {},
     "output_type": "execute_result"
    }
   ],
   "source": [
    "i = 1; n =3\n",
    "ei = np.zeros(n)\n",
    "ei[i] = 1\n",
    "ei"
   ]
  },
  {
   "cell_type": "code",
   "execution_count": 163,
   "metadata": {},
   "outputs": [
    {
     "data": {
      "text/plain": [
       "array([0., 1., 0., 0.])"
      ]
     },
     "execution_count": 163,
     "metadata": {},
     "output_type": "execute_result"
    }
   ],
   "source": [
    "#inline function to make ei^ in Julia: \n",
    "#Unit_vector(i,n) = [zeros(i-1);1;zeros(n-i)]\n",
    "#inline function to make ei^ in Python:\n",
    "def unit_vector(i,n): return np.concatenate((np.zeros(i),[1],np.zeros(n-i)))\n",
    "unit_vector(i,n)\n",
    "#concatenation is slightly different in that you use np.concatenate and numpy requires explicitly same types to concatenate whereas Julia assumes this "
   ]
  },
  {
   "cell_type": "code",
   "execution_count": 159,
   "metadata": {},
   "outputs": [
    {
     "data": {
      "text/plain": [
       "array([1., 1.])"
      ]
     },
     "execution_count": 159,
     "metadata": {},
     "output_type": "execute_result"
    }
   ],
   "source": [
    "np.ones(2) #equiv to ones(2)"
   ]
  },
  {
   "cell_type": "code",
   "execution_count": 161,
   "metadata": {},
   "outputs": [
    {
     "data": {
      "text/plain": [
       "array([-0.62559265,  0.70011423])"
      ]
     },
     "execution_count": 161,
     "metadata": {},
     "output_type": "execute_result"
    }
   ],
   "source": [
    "np.random.randn(2) #equiv to rand(2)"
   ]
  },
  {
   "cell_type": "code",
   "execution_count": 181,
   "metadata": {},
   "outputs": [
    {
     "data": {
      "text/plain": [
       "[64,\n",
       " 76,\n",
       " 69,\n",
       " 76,\n",
       " 60,\n",
       " 69,\n",
       " 78,\n",
       " 78,\n",
       " 73,\n",
       " 62,\n",
       " 66,\n",
       " 73,\n",
       " 78,\n",
       " 68,\n",
       " 68,\n",
       " 64,\n",
       " 77,\n",
       " 70,\n",
       " 61,\n",
       " 71,\n",
       " 63,\n",
       " 66,\n",
       " 65,\n",
       " 66,\n",
       " 78,\n",
       " 72,\n",
       " 63,\n",
       " 72,\n",
       " 72,\n",
       " 78,\n",
       " 60,\n",
       " 63,\n",
       " 66,\n",
       " 61,\n",
       " 66,\n",
       " 60,\n",
       " 71,\n",
       " 69,\n",
       " 72,\n",
       " 70]"
      ]
     },
     "execution_count": 181,
     "metadata": {},
     "output_type": "execute_result"
    }
   ],
   "source": [
    "temps = [np.random.randint(60,80) for i in range(40)]\n",
    "temps"
   ]
  },
  {
   "cell_type": "markdown",
   "metadata": {},
   "source": [
    "#### Plotting"
   ]
  },
  {
   "cell_type": "code",
   "execution_count": 208,
   "metadata": {},
   "outputs": [],
   "source": [
    "import matplotlib.pyplot as plt\n",
    "#in Julia you enter: ']', add [package name], ctrl+c (exit), use [package name]"
   ]
  },
  {
   "cell_type": "code",
   "execution_count": 209,
   "metadata": {},
   "outputs": [
    {
     "data": {
      "image/png": "[encoded data removed]",
      "text/plain": [
       "<Figure size 432x288 with 1 Axes>"
      ]
     },
     "metadata": {
      "needs_background": "light"
     },
     "output_type": "display_data"
    }
   ],
   "source": [
    "plt.plot(temps)\n",
    "plt.savefig('temps.png')\n",
    "#in Julia you use plot(temps) and savefig(\"temperature.pdf\")"
   ]
  },
  {
   "cell_type": "markdown",
   "metadata": {},
   "source": [
    "# 1.2, 1.3 Vector Addition, Scalar-Vector Multiplication & Addition"
   ]
  },
  {
   "cell_type": "code",
   "execution_count": 215,
   "metadata": {},
   "outputs": [
    {
     "data": {
      "text/plain": [
       "(array([1, 9, 3]), [0, 7, 3, 1, 2, 0])"
      ]
     },
     "execution_count": 215,
     "metadata": {},
     "output_type": "execute_result"
    }
   ],
   "source": [
    "np.array([0,7,3])+np.array([1,2,0]), [0,7,3] + [1,2,0]\n",
    "#In Julia you can use the right result to get the left result"
   ]
  },
  {
   "cell_type": "code",
   "execution_count": 216,
   "metadata": {},
   "outputs": [
    {
     "data": {
      "text/plain": [
       "array([0, 8])"
      ]
     },
     "execution_count": 216,
     "metadata": {},
     "output_type": "execute_result"
    }
   ],
   "source": [
    "np.array([1,9]) - np.array([1,1])"
   ]
  },
  {
   "cell_type": "code",
   "execution_count": 218,
   "metadata": {},
   "outputs": [
    {
     "data": {
      "text/plain": [
       "array([ 0. ,  4.4, -2.2])"
      ]
     },
     "execution_count": 218,
     "metadata": {},
     "output_type": "execute_result"
    }
   ],
   "source": [
    "x = np.array([0,2,-1]) \n",
    "2.2*x"
   ]
  },
  {
   "cell_type": "code",
   "execution_count": 219,
   "metadata": {},
   "outputs": [
    {
     "data": {
      "text/plain": [
       "array([ 0.        ,  0.66666667, -0.33333333])"
      ]
     },
     "execution_count": 219,
     "metadata": {},
     "output_type": "execute_result"
    }
   ],
   "source": [
    "x/3"
   ]
  },
  {
   "cell_type": "code",
   "execution_count": 225,
   "metadata": {},
   "outputs": [
    {
     "name": "stderr",
     "output_type": "stream",
     "text": [
      "/Users/vb/anaconda3/lib/python3.7/site-packages/ipykernel_launcher.py:1: RuntimeWarning: divide by zero encountered in true_divide\n",
      "  \"\"\"Entry point for launching an IPython kernel.\n"
     ]
    },
    {
     "data": {
      "text/plain": [
       "array([ inf,  1.5, -3. ])"
      ]
     },
     "execution_count": 225,
     "metadata": {},
     "output_type": "execute_result"
    }
   ],
   "source": [
    "3 / x #In Julia this returns the same as x/3!!"
   ]
  },
  {
   "cell_type": "code",
   "execution_count": 227,
   "metadata": {},
   "outputs": [
    {
     "data": {
      "text/plain": [
       "array([-0.3, -5.1, -1.1])"
      ]
     },
     "execution_count": 227,
     "metadata": {},
     "output_type": "execute_result"
    }
   ],
   "source": [
    "np.array([1.1,-3.7,.3]) - 1.4 #In Julia this is .-; just using - returns an Error no method matching -"
   ]
  },
  {
   "cell_type": "code",
   "execution_count": 228,
   "metadata": {},
   "outputs": [
    {
     "data": {
      "text/plain": [
       "array([ 1.7, -0.3])"
      ]
     },
     "execution_count": 228,
     "metadata": {},
     "output_type": "execute_result"
    }
   ],
   "source": [
    ".7 + np.array([1,-1])"
   ]
  },
  {
   "cell_type": "markdown",
   "metadata": {},
   "source": [
    "#### Elementwise Operations, Elementwise Operations with a Scalar"
   ]
  },
  {
   "cell_type": "code",
   "execution_count": 229,
   "metadata": {},
   "outputs": [
    {
     "data": {
      "text/plain": [
       "array([ 0.04063205, -0.0223914 ,  0.00634138])"
      ]
     },
     "execution_count": 229,
     "metadata": {},
     "output_type": "execute_result"
    }
   ],
   "source": [
    "p_init = np.array([22.15,89.32, 56.77])\n",
    "p_fin = np.array([23.05,87.32, 57.13])\n",
    "r = (p_fin - p_init) / p_init #in Julia you would use ./ to denote elementwise \n",
    "r"
   ]
  },
  {
   "cell_type": "code",
   "execution_count": 3,
   "metadata": {},
   "outputs": [
    {
     "data": {
      "text/plain": [
       "(False, array([ True,  True, False]), False)"
      ]
     },
     "execution_count": 3,
     "metadata": {},
     "output_type": "execute_result"
    }
   ],
   "source": [
    "w = [1,2,2]; z = [1,2,3]\n",
    "w == z,np.array(w) == np.array(z), np.array_equal(w,z) \n",
    "#in Julia you can differentiate the two methods of relational \n",
    "#checking with == and .== "
   ]
  },
  {
   "cell_type": "code",
   "execution_count": 236,
   "metadata": {},
   "outputs": [
    {
     "data": {
      "text/plain": [
       "[1.1, -1.5]"
      ]
     },
     "execution_count": 236,
     "metadata": {},
     "output_type": "execute_result"
    }
   ],
   "source": [
    "x = np.array([1.1,.5,-1.5,-.3])\n",
    "[i for i in x if abs(i)>1] #in Julia: x[abs.(x) .> 1], you ask x for a slice using an elementwise absolute check (abs.(x)) and element wise comparator (.>)\n"
   ]
  },
  {
   "cell_type": "code",
   "execution_count": 260,
   "metadata": {},
   "outputs": [
    {
     "data": {
      "text/plain": [
       "array([-0.75287517,  0.10381592,  0.61324229,  1.61375533])"
      ]
     },
     "execution_count": 260,
     "metadata": {},
     "output_type": "execute_result"
    }
   ],
   "source": [
    "x = np.random.randn(4) #in Julia: x = rand(4)\n",
    "x"
   ]
  },
  {
   "cell_type": "code",
   "execution_count": 264,
   "metadata": {},
   "outputs": [
    {
     "data": {
      "text/plain": [
       "array([-1.        ,  1.        ,  0.61324229,  1.61375533])"
      ]
     },
     "execution_count": 264,
     "metadata": {},
     "output_type": "execute_result"
    }
   ],
   "source": [
    "x[0:2] = [-1,1]\n",
    "x"
   ]
  },
  {
   "cell_type": "code",
   "execution_count": 265,
   "metadata": {},
   "outputs": [
    {
     "data": {
      "text/plain": [
       "array([-1.        ,  1.3       ,  1.3       ,  1.61375533])"
      ]
     },
     "execution_count": 265,
     "metadata": {},
     "output_type": "execute_result"
    }
   ],
   "source": [
    "x[1:3] = 1.3\n",
    "x"
   ]
  },
  {
   "cell_type": "markdown",
   "metadata": {},
   "source": [
    "#### Linear Combination"
   ]
  },
  {
   "cell_type": "code",
   "execution_count": 273,
   "metadata": {},
   "outputs": [
    {
     "data": {
      "text/plain": [
       "(array([1, 2]), array([3, 4]), -0.5, 1.5)"
      ]
     },
     "execution_count": 273,
     "metadata": {},
     "output_type": "execute_result"
    }
   ],
   "source": [
    "a,b = np.array([1,2]), np.array([3,4])\n",
    "alpha,beta = -.5,1.5\n",
    "a,b,alpha,beta"
   ]
  },
  {
   "cell_type": "code",
   "execution_count": 275,
   "metadata": {},
   "outputs": [
    {
     "data": {
      "text/plain": [
       "array([4., 5.])"
      ]
     },
     "execution_count": 275,
     "metadata": {},
     "output_type": "execute_result"
    }
   ],
   "source": [
    "c = alpha*a + beta*b\n",
    "c #all same as Julia, just take out np array casting"
   ]
  },
  {
   "cell_type": "code",
   "execution_count": 342,
   "metadata": {},
   "outputs": [
    {
     "data": {
      "text/plain": [
       "(array([4., 5.]), [array([4., 5.])])"
      ]
     },
     "execution_count": 342,
     "metadata": {},
     "output_type": "execute_result"
    }
   ],
   "source": [
    "coef = ([-.5,1.5])\n",
    "vecs = [np.array([1,2]),np.array([3,4])]\n",
    "\n",
    "def lincomb(coeff,vectors):\n",
    "    n = len(vectors[0])\n",
    "    a = np.zeros(n)\n",
    "    for i in range(len(vectors)):\n",
    "        a += coeff[i] * vectors[i]\n",
    "    return a\n",
    "\n",
    "#or, you can use a List Comprehension:\n",
    "\n",
    "def lincomb_LC(coeff,vectors):\n",
    "    return [coef[i] * vecs[i] + coef[i+1] * vecs[i+1] \n",
    "            for i in range(len(coef)-1)]\n",
    "    #or: sum([coef[i] * vecs[i] for i in range(len(vecs))])\n",
    "\n",
    "lincomb(coef, vecs), lincomb_LC(coef,vecs)"
   ]
  },
  {
   "cell_type": "code",
   "execution_count": 358,
   "metadata": {},
   "outputs": [
    {
     "data": {
      "text/plain": [
       "(array([0.58071614, 0.95006838, 0.70374892]),\n",
       " array([0.0838133 , 0.93309517, 0.70677085]),\n",
       " 0.06290415585640763)"
      ]
     },
     "execution_count": 358,
     "metadata": {},
     "output_type": "execute_result"
    }
   ],
   "source": [
    "a,b,beta = np.random.rand(3),np.random.rand(3), np.random.rand()\n",
    "a,b,beta"
   ]
  },
  {
   "cell_type": "markdown",
   "metadata": {},
   "source": [
    "#### Checking properties"
   ]
  },
  {
   "cell_type": "code",
   "execution_count": 359,
   "metadata": {},
   "outputs": [
    {
     "data": {
      "text/plain": [
       "(array([0.04180166, 0.11845881, 0.08872756]),\n",
       " array([0.04180166, 0.11845881, 0.08872756]))"
      ]
     },
     "execution_count": 359,
     "metadata": {},
     "output_type": "execute_result"
    }
   ],
   "source": [
    "lhs = beta*(a+b)\n",
    "rhs = beta*a + beta * b\n",
    "lhs,rhs #same as Julia for checking distributive property"
   ]
  },
  {
   "cell_type": "markdown",
   "metadata": {},
   "source": [
    "# 1.4 Inner Product"
   ]
  },
  {
   "cell_type": "code",
   "execution_count": 361,
   "metadata": {},
   "outputs": [
    {
     "data": {
      "text/plain": [
       "-7"
      ]
     },
     "execution_count": 361,
     "metadata": {},
     "output_type": "execute_result"
    }
   ],
   "source": [
    "x = np.array([-1,2,2])\n",
    "y = np.array([1,0,-3])\n",
    "np.inner(x,y) #Julia equiv: x'*y"
   ]
  },
  {
   "cell_type": "markdown",
   "metadata": {},
   "source": [
    "#### NPV"
   ]
  },
  {
   "cell_type": "code",
   "execution_count": 366,
   "metadata": {},
   "outputs": [
    {
     "data": {
      "text/plain": [
       "(array([1.        , 0.95238095, 0.90702948, 0.8638376 ]), 1.236162401468524)"
      ]
     },
     "execution_count": 366,
     "metadata": {},
     "output_type": "execute_result"
    }
   ],
   "source": [
    "c = np.array([.1,.1,.1,1.1])\n",
    "n = len(c)\n",
    "r = .05\n",
    "d = np.array([(1+r)**-(i) for i in range(0,n)]) #J equiv: (1+r) .^ -(0:n-1)\n",
    "d, sum(c*d) #NPV"
   ]
  },
  {
   "cell_type": "markdown",
   "metadata": {},
   "source": [
    "#### Total School-Age Population"
   ]
  },
  {
   "cell_type": "code",
   "execution_count": 425,
   "metadata": {},
   "outputs": [
    {
     "data": {
      "text/plain": [
       "150.0"
      ]
     },
     "execution_count": 425,
     "metadata": {},
     "output_type": "execute_result"
    }
   ],
   "source": [
    "#Ambiguous solution to attempt at \"Total school-age population\", \n",
    "#unable to decipher description of data given\n",
    "import collections\n",
    "from collections import Counter\n",
    "\n",
    "s = np.concatenate((np.zeros(5),np.ones(14),np.zeros(81)))\n",
    "ages = [np.random.randint(5,19) for i in range(100)]\n",
    "# data = dict(collections.OrderedDict(sorted(data.items())))\n",
    "# counts = np.array([v for k,v in data.items()])\n",
    "# dists = np.array([v/100 for k,v in data.items()])\n",
    "sum(s*ages) "
   ]
  },
  {
   "cell_type": "markdown",
   "metadata": {},
   "source": [
    "# 1.5 Complexity of Vector Computations"
   ]
  },
  {
   "cell_type": "code",
   "execution_count": 428,
   "metadata": {},
   "outputs": [
    {
     "data": {
      "text/plain": [
       "(0.4455070365899001, 0.44550703658990015)"
      ]
     },
     "execution_count": 428,
     "metadata": {},
     "output_type": "execute_result"
    }
   ],
   "source": [
    "a,b = np.random.randn(),np.random.randn()\n",
    "lhs = (a+b)*(a-b)\n",
    "rhs = a**2 - b**2\n",
    "lhs,rhs"
   ]
  },
  {
   "cell_type": "code",
   "execution_count": 436,
   "metadata": {},
   "outputs": [
    {
     "name": "stdout",
     "output_type": "stream",
     "text": [
      "8.75 ms ± 550 µs per loop (mean ± std. dev. of 7 runs, 100 loops each)\n"
     ]
    }
   ],
   "source": [
    "import timeit\n",
    "a,b = np.random.randn(10**5),np.random.randn(10**5)\n",
    "%timeit sum(a*b) #@time in J"
   ]
  },
  {
   "cell_type": "code",
   "execution_count": 435,
   "metadata": {},
   "outputs": [
    {
     "name": "stdout",
     "output_type": "stream",
     "text": [
      "8.79 ms ± 495 µs per loop (mean ± std. dev. of 7 runs, 100 loops each)\n"
     ]
    }
   ],
   "source": [
    "%timeit sum(a*b)"
   ]
  },
  {
   "cell_type": "code",
   "execution_count": 448,
   "metadata": {},
   "outputs": [
    {
     "data": {
      "text/plain": [
       "((array([123456, 123457]),), 1)"
      ]
     },
     "execution_count": 448,
     "metadata": {},
     "output_type": "execute_result"
    }
   ],
   "source": [
    "sparsevec = np.zeros(10**6)\n",
    "sparsevec[123456],sparsevec[123457] = [1.0,-1.0] \n",
    "#this is a one line operation in J using the SparseVec package: \n",
    "#sparsevec([list of indices to set], [values for those indices], vec size)\n",
    "np.nonzero(sparsevec),len(np.nonzero(sparsevec))"
   ]
  },
  {
   "cell_type": "code",
   "execution_count": 454,
   "metadata": {},
   "outputs": [
    {
     "name": "stdout",
     "output_type": "stream",
     "text": [
      "1.32 ms ± 84.4 µs per loop (mean ± std. dev. of 7 runs, 1000 loops each)\n"
     ]
    }
   ],
   "source": [
    "b = np.random.randn(10**6)\n",
    "%timeit c = sparsevec + b "
   ]
  }
 ],
 "metadata": {
  "kernelspec": {
   "display_name": "Python 3",
   "language": "python",
   "name": "python3"
  },
  "language_info": {
   "codemirror_mode": {
    "name": "ipython",
    "version": 3
   },
   "file_extension": ".py",
   "mimetype": "text/x-python",
   "name": "python",
   "nbconvert_exporter": "python",
   "pygments_lexer": "ipython3",
   "version": "3.7.4"
  }
 },
 "nbformat": 4,
 "nbformat_minor": 2
}
