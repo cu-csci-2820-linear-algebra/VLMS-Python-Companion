{
 "cells": [
  {
   "cell_type": "code",
   "execution_count": 2,
   "metadata": {},
   "outputs": [
    {
     "name": "stderr",
     "output_type": "stream",
     "text": [
      "/Users/vb/anaconda3/lib/python3.7/site-packages/matplotlib/__init__.py:846: MatplotlibDeprecationWarning: \n",
      "The text.latex.unicode rcparam was deprecated in Matplotlib 2.2 and will be removed in 3.1.\n",
      "  \"2.2\", name=key, obj_type=\"rcparam\", addendum=addendum)\n",
      "/Users/vb/anaconda3/lib/python3.7/site-packages/matplotlib/__init__.py:855: MatplotlibDeprecationWarning: \n",
      "examples.directory is deprecated; in the future, examples will be found relative to the 'datapath' directory.\n",
      "  \"found relative to the 'datapath' directory.\".format(key))\n",
      "/Users/vb/anaconda3/lib/python3.7/site-packages/matplotlib/__init__.py:947: UserWarning: could not find rc file; returning defaults\n",
      "  warnings.warn(message)\n"
     ]
    }
   ],
   "source": [
    "import numpy as np\n",
    "import numpy.linalg as npl\n",
    "import matplotlib.pyplot as plt"
   ]
  },
  {
   "cell_type": "markdown",
   "metadata": {},
   "source": [
    "# 4.1,2 Clustering & A Clustering Objective"
   ]
  },
  {
   "cell_type": "markdown",
   "metadata": {},
   "source": [
    "1. \"The goal of clustering is to group of partition vectors into k groups or clusters, with the vectors in each group close to each other\"\n",
    "2. Objective: A single value used to judge \"choice of clustering\": choose k"
   ]
  },
  {
   "cell_type": "code",
   "execution_count": 53,
   "metadata": {},
   "outputs": [
    {
     "data": {
      "text/plain": [
       "(2.0, 1.3333333333333333)"
      ]
     },
     "execution_count": 53,
     "metadata": {},
     "output_type": "execute_result"
    }
   ],
   "source": [
    "#given a tuple of vectors, and representatives for groups of vectors,\n",
    "#what is the average distance each vector has from a representative\n",
    "\n",
    "x = np.array([[0,1],[1,0],[-1,1]])\n",
    "reps = np.array([[1,1],[0,0]])\n",
    "\n",
    "jclust = lambda x, reps, assignment: np.average([npl.norm(x[i] - reps[assignment[i]])**2 for i in range(len(x))])\n",
    "jclust(x,reps,[0,1,0]),jclust(x,reps,[0,0,1]) #assignments are 0 indexed\n",
    "\n",
    "#How can we select the center-most (most minimal distance between vectors)\n",
    "#representative?"
   ]
  },
  {
   "cell_type": "markdown",
   "metadata": {},
   "source": [
    "# 4.3 k-Means Algorithm"
   ]
  },
  {
   "cell_type": "markdown",
   "metadata": {},
   "source": [
    "\"Iterating between choosing group representatives and choosing group assignments\""
   ]
  },
  {
   "cell_type": "markdown",
   "metadata": {},
   "source": [
    "#### Pseduo:\n",
    "1. Initialize a group of representatives either by: 1) randomly selecting from set of vectors, or 2) randomly group vectors and create mean vectors to be used as representatives.\n",
    "2. Partition vectors in k amount of groups. Assign a group for every vector associated with the nearest representative.\n",
    "    If there are any ties for vector assignments, choose the group with the smallest j value of the ties.\n",
    "    If there is an empty group, remove from list of k groups.\n",
    "    If there are two iterations without changes in vector assignments, stop algorithm.\n",
    "3. Update representatives. For every group from 1-k set the corresponding representative to be the mean of the vectors in that group.\n",
    "    If Jclust gets small, stop algorithm."
   ]
  },
  {
   "cell_type": "code",
   "execution_count": 296,
   "metadata": {},
   "outputs": [],
   "source": [
    "def kmeans(x,k,maxiters = 100, tolerance = 1e-4):\n",
    "    \n",
    "    N = len(x) #amount of vectors\n",
    "    n = len(x[0]) #dimension of each vector\n",
    "    distances = np.zeros(N) #stores distances of each pt to nearest rep\n",
    "    progress = [] #used to visualize J updates\n",
    "    jPrev = np.Infinity #placeholder for ending condition: \n",
    "                        #if previous J and current J haven't changed much,finish\n",
    "    \n",
    "    reps = [np.zeros(n) for j in range(k)] #stores representatives\n",
    "    assignment = [np.random.randint(k) for i in range(N)] #intializes a random assignment of N integers between 0 and k\n",
    "    \n",
    "    for itr in range(maxiters):\n",
    "        for j in range(k):\n",
    "            group = [i for i in range(N) if assignment[i] == j]\n",
    "            reps[j] = sum(x[group]/len(group))\n",
    "        for i in range(N):\n",
    "            #(distance and index):\n",
    "            (distances[i], assignment[i]) = np.amin([npl.norm(x[i] - reps[j]) for j in range(k)]),[npl.norm(x[i] - reps[j]) for j in range(k)].index(np.amin([npl.norm(x[i] - reps[j]) for j in range(k)]))\n",
    "        J = (npl.norm(distances)**2) / N\n",
    "        progress.append([J,itr])\n",
    "        print(\"Iteration \" + str(itr) + \": Jclust = \" + str(J)+\".\")\n",
    "        if (itr > 1) and (abs(J-jPrev) < (tolerance * J)):\n",
    "            return assignment, reps, progress\n",
    "        \n",
    "        jPrev = J  \n",
    "    return assignment, reps, progress"
   ]
  },
  {
   "cell_type": "code",
   "execution_count": 297,
   "metadata": {},
   "outputs": [],
   "source": [
    "X = np.concatenate(\n",
    "    [[.3*np.random.randn(2) for i in range(100)],\n",
    "     [np.array([1,1]) + .3*np.random.randn(2) for i in range(100)],\n",
    "     [np.array([1,-1]) + .3*np.random.randn(2) for i in range(100)]]\n",
    ")"
   ]
  },
  {
   "cell_type": "code",
   "execution_count": 298,
   "metadata": {},
   "outputs": [
    {
     "data": {
      "text/plain": [
       "((-1.5, 2.5), (-2, 2))"
      ]
     },
     "execution_count": 298,
     "metadata": {},
     "output_type": "execute_result"
    },
    {
     "data": {
      "image/png": "[encoded data removed]",
      "text/plain": [
       "<Figure size 432x288 with 1 Axes>"
      ]
     },
     "metadata": {
      "needs_background": "light"
     },
     "output_type": "display_data"
    }
   ],
   "source": [
    "plt.scatter([x[0] for x in X],[x[1] for x in X])\n",
    "plt.xlim([-1.5,2.5]),plt.ylim([-2,2])"
   ]
  },
  {
   "cell_type": "code",
   "execution_count": 300,
   "metadata": {
    "scrolled": false
   },
   "outputs": [
    {
     "name": "stdout",
     "output_type": "stream",
     "text": [
      "Iteration 0: Jclust = 1.0231693716582628.\n",
      "Iteration 1: Jclust = 0.5918779423265886.\n",
      "Iteration 2: Jclust = 0.5278468679981483.\n",
      "Iteration 3: Jclust = 0.5269656523989839.\n",
      "Iteration 4: Jclust = 0.5269656523989839.\n"
     ]
    }
   ],
   "source": [
    "k=2\n",
    "assignment, reps, progress = kmeans(X,k)"
   ]
  },
  {
   "cell_type": "code",
   "execution_count": 301,
   "metadata": {},
   "outputs": [
    {
     "data": {
      "text/plain": [
       "((-1.5, 2.5), (-2, 2))"
      ]
     },
     "execution_count": 301,
     "metadata": {},
     "output_type": "execute_result"
    },
    {
     "data": {
      "image/png": "[encoded data removed]",
      "text/plain": [
       "<Figure size 432x288 with 1 Axes>"
      ]
     },
     "metadata": {
      "needs_background": "light"
     },
     "output_type": "display_data"
    }
   ],
   "source": [
    "groups = [[X[i] for i in range(len(X)) if assignment[i] == j] for j in range(k)]\n",
    "plt.scatter([c[0] for c in groups[0]],[c[1] for c in groups[0]])\n",
    "plt.scatter([c[0] for c in groups[1]],[c[1] for c in groups[1]])\n",
    "plt.xlim([-1.5,2.5]),plt.ylim([-2,2])"
   ]
  },
  {
   "cell_type": "code",
   "execution_count": 302,
   "metadata": {
    "scrolled": false
   },
   "outputs": [
    {
     "name": "stdout",
     "output_type": "stream",
     "text": [
      "Iteration 0: Jclust = 0.9317054287555512.\n",
      "Iteration 1: Jclust = 0.31389848409835014.\n",
      "Iteration 2: Jclust = 0.17439737829953222.\n",
      "Iteration 3: Jclust = 0.16861472349202722.\n",
      "Iteration 4: Jclust = 0.16861472349202722.\n"
     ]
    },
    {
     "data": {
      "text/plain": [
       "((-1.5, 2.5), (-2, 2))"
      ]
     },
     "execution_count": 302,
     "metadata": {},
     "output_type": "execute_result"
    },
    {
     "data": {
      "image/png": "[encoded data removed]",
      "text/plain": [
       "<Figure size 432x288 with 1 Axes>"
      ]
     },
     "metadata": {
      "needs_background": "light"
     },
     "output_type": "display_data"
    }
   ],
   "source": [
    "k=3\n",
    "assignment, reps, progress = kmeans(X,k)\n",
    "groups = [[X[i] for i in range(len(X)) if assignment[i] == j] for j in range(k)]\n",
    "plt.scatter([c[0] for c in groups[0]],[c[1] for c in groups[0]])\n",
    "plt.scatter([c[0] for c in groups[1]],[c[1] for c in groups[1]])\n",
    "plt.scatter([c[0] for c in groups[2]],[c[1] for c in groups[2]])\n",
    "plt.xlim([-1.5,2.5]),plt.ylim([-2,2])"
   ]
  },
  {
   "cell_type": "code",
   "execution_count": 306,
   "metadata": {},
   "outputs": [
    {
     "name": "stdout",
     "output_type": "stream",
     "text": [
      "Iteration 0: Jclust = 0.8987095782460353.\n",
      "Iteration 1: Jclust = 0.1916676983729594.\n",
      "Iteration 2: Jclust = 0.14917398347157398.\n",
      "Iteration 3: Jclust = 0.14856605711398402.\n",
      "Iteration 4: Jclust = 0.14847310770120947.\n",
      "Iteration 5: Jclust = 0.14837893204001054.\n",
      "Iteration 6: Jclust = 0.1483607928113771.\n",
      "Iteration 7: Jclust = 0.1483607928113771.\n"
     ]
    },
    {
     "data": {
      "text/plain": [
       "((-1.5, 2.5), (-2, 2))"
      ]
     },
     "execution_count": 306,
     "metadata": {},
     "output_type": "execute_result"
    },
    {
     "data": {
      "image/png": "[encoded data removed]",
      "text/plain": [
       "<Figure size 432x288 with 1 Axes>"
      ]
     },
     "metadata": {
      "needs_background": "light"
     },
     "output_type": "display_data"
    }
   ],
   "source": [
    "k=4\n",
    "assignment, reps, progress = kmeans(X,k)\n",
    "groups = [[X[i] for i in range(len(X)) if assignment[i] == j] for j in range(k)]\n",
    "plt.scatter([c[0] for c in groups[0]],[c[1] for c in groups[0]])\n",
    "plt.scatter([c[0] for c in groups[1]],[c[1] for c in groups[1]])\n",
    "plt.scatter([c[0] for c in groups[2]],[c[1] for c in groups[2]])\n",
    "plt.scatter([c[0] for c in groups[3]],[c[1] for c in groups[3]])\n",
    "plt.xlim([-1.5,2.5]),plt.ylim([-2,2])\n",
    "# plt.show()\n",
    "# plt.scatter([i[1] for i in progress],[i[0] for i in progress])\n",
    "# plt.show()"
   ]
  },
  {
   "cell_type": "markdown",
   "metadata": {},
   "source": [
    "# 4.4 Examples"
   ]
  },
  {
   "cell_type": "code",
   "execution_count": null,
   "metadata": {},
   "outputs": [],
   "source": []
  },
  {
   "cell_type": "markdown",
   "metadata": {},
   "source": [
    "# 4.5 Applications"
   ]
  },
  {
   "cell_type": "code",
   "execution_count": null,
   "metadata": {},
   "outputs": [],
   "source": []
  }
 ],
 "metadata": {
  "kernelspec": {
   "display_name": "Python 3",
   "language": "python",
   "name": "python3"
  },
  "language_info": {
   "codemirror_mode": {
    "name": "ipython",
    "version": 3
   },
   "file_extension": ".py",
   "mimetype": "text/x-python",
   "name": "python",
   "nbconvert_exporter": "python",
   "pygments_lexer": "ipython3",
   "version": "3.7.4"
  }
 },
 "nbformat": 4,
 "nbformat_minor": 2
}
